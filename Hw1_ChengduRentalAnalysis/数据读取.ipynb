{
 "cells": [
  {
   "metadata": {},
   "cell_type": "markdown",
   "source": "# Hw1_成都市租房价格分析",
   "id": "ab4b6eb40309663e"
  },
  {
   "metadata": {},
   "cell_type": "markdown",
   "source": "## 0 准备",
   "id": "59912dfb5c9adb1f"
  },
  {
   "metadata": {
    "ExecuteTime": {
     "end_time": "2024-10-11T09:27:17.804770Z",
     "start_time": "2024-10-11T09:27:17.798874Z"
    }
   },
   "cell_type": "code",
   "source": [
    "import sys\n",
    "print(sys.executable)\n",
    "# Pycharm 重启解决问题"
   ],
   "id": "f3a79f65e8ec5b30",
   "outputs": [
    {
     "name": "stdout",
     "output_type": "stream",
     "text": [
      "/opt/anaconda3/envs/myenv/bin/python\n"
     ]
    }
   ],
   "execution_count": 4
  },
  {
   "metadata": {
    "ExecuteTime": {
     "end_time": "2024-10-11T09:27:20.318922Z",
     "start_time": "2024-10-11T09:27:20.314324Z"
    }
   },
   "cell_type": "code",
   "source": [
    "import pandas as pd\n",
    "import numpy as np\n",
    "import matplotlib.pyplot as plt"
   ],
   "id": "7ea58cbf955fc8ec",
   "outputs": [],
   "execution_count": 5
  },
  {
   "metadata": {
    "ExecuteTime": {
     "end_time": "2024-10-11T09:27:23.892923Z",
     "start_time": "2024-10-11T09:27:23.889594Z"
    }
   },
   "cell_type": "code",
   "source": [
    "plt.rcParams['font.sans-serif'] = ['SimHei']  # 用来正常显示中文标签\n",
    "plt.rcParams['axes.unicode_minus'] = False  # 用来正常显示负号"
   ],
   "id": "7ce1e9da5e533571",
   "outputs": [],
   "execution_count": 6
  },
  {
   "metadata": {},
   "cell_type": "markdown",
   "source": "## 1 读取数据",
   "id": "77866dae1d671864"
  },
  {
   "metadata": {
    "ExecuteTime": {
     "end_time": "2024-10-11T09:31:27.351049Z",
     "start_time": "2024-10-11T09:31:27.343544Z"
    }
   },
   "cell_type": "code",
   "source": [
    "file_data=pd.read_csv('./chengdu_rent.csv')\n",
    "file_data.head()"
   ],
   "id": "dd3fdf2c0d0b5eb1",
   "outputs": [
    {
     "data": {
      "text/plain": [
       "                                                 标题             价格      面积  \\\n",
       "0                                    整租·卓锦万黛 3室1厅 南       1800 元/月  92.68㎡   \n",
       "1                                 整租·天府半岛七期 3室2厅 西南       1900 元/月  91.28㎡   \n",
       "2                                   整租·龙樾熙城 3室2厅 东南       3050 元/月  93.00㎡   \n",
       "3  独栋·龙湖冠寓 成都滨江天街店 【国庆钜惠】理工大一个月起租学生双重优惠 0中介 可月付9 开间  1848-2032 元/月  35.00㎡   \n",
       "4                                   整租·锦城华府 1室1厅 东北       2300 元/月  47.32㎡   \n",
       "\n",
       "                  区域                                  链接  \n",
       "0        龙泉驿-大面-卓锦万黛  /zufang/CD1955917199709306880.html  \n",
       "1  天府新区-锦江生态带-天府半岛七期  /zufang/CD1955464435363479552.html  \n",
       "2         金牛-国宾-龙樾熙城  /zufang/CD2404832446492721152.html  \n",
       "3               仅剩2间               /apartment/49105.html  \n",
       "4        青羊-八宝街-锦城华府  /zufang/CD2366568447007539200.html  "
      ],
      "text/html": [
       "<div>\n",
       "<style scoped>\n",
       "    .dataframe tbody tr th:only-of-type {\n",
       "        vertical-align: middle;\n",
       "    }\n",
       "\n",
       "    .dataframe tbody tr th {\n",
       "        vertical-align: top;\n",
       "    }\n",
       "\n",
       "    .dataframe thead th {\n",
       "        text-align: right;\n",
       "    }\n",
       "</style>\n",
       "<table border=\"1\" class=\"dataframe\">\n",
       "  <thead>\n",
       "    <tr style=\"text-align: right;\">\n",
       "      <th></th>\n",
       "      <th>标题</th>\n",
       "      <th>价格</th>\n",
       "      <th>面积</th>\n",
       "      <th>区域</th>\n",
       "      <th>链接</th>\n",
       "    </tr>\n",
       "  </thead>\n",
       "  <tbody>\n",
       "    <tr>\n",
       "      <th>0</th>\n",
       "      <td>整租·卓锦万黛 3室1厅 南</td>\n",
       "      <td>1800 元/月</td>\n",
       "      <td>92.68㎡</td>\n",
       "      <td>龙泉驿-大面-卓锦万黛</td>\n",
       "      <td>/zufang/CD1955917199709306880.html</td>\n",
       "    </tr>\n",
       "    <tr>\n",
       "      <th>1</th>\n",
       "      <td>整租·天府半岛七期 3室2厅 西南</td>\n",
       "      <td>1900 元/月</td>\n",
       "      <td>91.28㎡</td>\n",
       "      <td>天府新区-锦江生态带-天府半岛七期</td>\n",
       "      <td>/zufang/CD1955464435363479552.html</td>\n",
       "    </tr>\n",
       "    <tr>\n",
       "      <th>2</th>\n",
       "      <td>整租·龙樾熙城 3室2厅 东南</td>\n",
       "      <td>3050 元/月</td>\n",
       "      <td>93.00㎡</td>\n",
       "      <td>金牛-国宾-龙樾熙城</td>\n",
       "      <td>/zufang/CD2404832446492721152.html</td>\n",
       "    </tr>\n",
       "    <tr>\n",
       "      <th>3</th>\n",
       "      <td>独栋·龙湖冠寓 成都滨江天街店 【国庆钜惠】理工大一个月起租学生双重优惠 0中介 可月付9 开间</td>\n",
       "      <td>1848-2032 元/月</td>\n",
       "      <td>35.00㎡</td>\n",
       "      <td>仅剩2间</td>\n",
       "      <td>/apartment/49105.html</td>\n",
       "    </tr>\n",
       "    <tr>\n",
       "      <th>4</th>\n",
       "      <td>整租·锦城华府 1室1厅 东北</td>\n",
       "      <td>2300 元/月</td>\n",
       "      <td>47.32㎡</td>\n",
       "      <td>青羊-八宝街-锦城华府</td>\n",
       "      <td>/zufang/CD2366568447007539200.html</td>\n",
       "    </tr>\n",
       "  </tbody>\n",
       "</table>\n",
       "</div>"
      ]
     },
     "execution_count": 9,
     "metadata": {},
     "output_type": "execute_result"
    }
   ],
   "execution_count": 9
  },
  {
   "metadata": {
    "ExecuteTime": {
     "end_time": "2024-10-11T09:31:29.271465Z",
     "start_time": "2024-10-11T09:31:29.265413Z"
    }
   },
   "cell_type": "code",
   "source": "file_data.tail()",
   "id": "b483bb166984ec72",
   "outputs": [
    {
     "data": {
      "text/plain": [
       "                  标题        价格       面积                 区域  \\\n",
       "55  整租·首创万卷山 3室1厅 东南  1890 元/月   90.48㎡       龙泉驿-大面-首创万卷山   \n",
       "56  整租·万科翡翠公园 4室2厅 南  3325 元/月  121.00㎡  天府新区-锦江生态带-万科翡翠公园   \n",
       "57    整租·锦绣家园 2室1厅 东  1750 元/月   70.00㎡     天府新区-海洋公园-锦绣家园   \n",
       "58  整租·金科天籁城 3室1厅 东南  2600 元/月  101.42㎡       成华-龙潭寺-金科天籁城   \n",
       "59    整租·世纪光华 3室2厅 南  1900 元/月  109.07㎡       温江-花都大道-世纪光华   \n",
       "\n",
       "                                    链接  \n",
       "55  /zufang/CD1950749833320988672.html  \n",
       "56  /zufang/CD1941902546016665600.html  \n",
       "57  /zufang/CD1953286359561011200.html  \n",
       "58  /zufang/CD1955481008304291840.html  \n",
       "59  /zufang/CD1955215546488193024.html  "
      ],
      "text/html": [
       "<div>\n",
       "<style scoped>\n",
       "    .dataframe tbody tr th:only-of-type {\n",
       "        vertical-align: middle;\n",
       "    }\n",
       "\n",
       "    .dataframe tbody tr th {\n",
       "        vertical-align: top;\n",
       "    }\n",
       "\n",
       "    .dataframe thead th {\n",
       "        text-align: right;\n",
       "    }\n",
       "</style>\n",
       "<table border=\"1\" class=\"dataframe\">\n",
       "  <thead>\n",
       "    <tr style=\"text-align: right;\">\n",
       "      <th></th>\n",
       "      <th>标题</th>\n",
       "      <th>价格</th>\n",
       "      <th>面积</th>\n",
       "      <th>区域</th>\n",
       "      <th>链接</th>\n",
       "    </tr>\n",
       "  </thead>\n",
       "  <tbody>\n",
       "    <tr>\n",
       "      <th>55</th>\n",
       "      <td>整租·首创万卷山 3室1厅 东南</td>\n",
       "      <td>1890 元/月</td>\n",
       "      <td>90.48㎡</td>\n",
       "      <td>龙泉驿-大面-首创万卷山</td>\n",
       "      <td>/zufang/CD1950749833320988672.html</td>\n",
       "    </tr>\n",
       "    <tr>\n",
       "      <th>56</th>\n",
       "      <td>整租·万科翡翠公园 4室2厅 南</td>\n",
       "      <td>3325 元/月</td>\n",
       "      <td>121.00㎡</td>\n",
       "      <td>天府新区-锦江生态带-万科翡翠公园</td>\n",
       "      <td>/zufang/CD1941902546016665600.html</td>\n",
       "    </tr>\n",
       "    <tr>\n",
       "      <th>57</th>\n",
       "      <td>整租·锦绣家园 2室1厅 东</td>\n",
       "      <td>1750 元/月</td>\n",
       "      <td>70.00㎡</td>\n",
       "      <td>天府新区-海洋公园-锦绣家园</td>\n",
       "      <td>/zufang/CD1953286359561011200.html</td>\n",
       "    </tr>\n",
       "    <tr>\n",
       "      <th>58</th>\n",
       "      <td>整租·金科天籁城 3室1厅 东南</td>\n",
       "      <td>2600 元/月</td>\n",
       "      <td>101.42㎡</td>\n",
       "      <td>成华-龙潭寺-金科天籁城</td>\n",
       "      <td>/zufang/CD1955481008304291840.html</td>\n",
       "    </tr>\n",
       "    <tr>\n",
       "      <th>59</th>\n",
       "      <td>整租·世纪光华 3室2厅 南</td>\n",
       "      <td>1900 元/月</td>\n",
       "      <td>109.07㎡</td>\n",
       "      <td>温江-花都大道-世纪光华</td>\n",
       "      <td>/zufang/CD1955215546488193024.html</td>\n",
       "    </tr>\n",
       "  </tbody>\n",
       "</table>\n",
       "</div>"
      ]
     },
     "execution_count": 10,
     "metadata": {},
     "output_type": "execute_result"
    }
   ],
   "execution_count": 10
  },
  {
   "metadata": {},
   "cell_type": "code",
   "outputs": [],
   "execution_count": null,
   "source": "",
   "id": "f5addecf52143684"
  }
 ],
 "metadata": {
  "kernelspec": {
   "display_name": "Python 3",
   "language": "python",
   "name": "python3"
  },
  "language_info": {
   "codemirror_mode": {
    "name": "ipython",
    "version": 2
   },
   "file_extension": ".py",
   "mimetype": "text/x-python",
   "name": "python",
   "nbconvert_exporter": "python",
   "pygments_lexer": "ipython2",
   "version": "2.7.6"
  }
 },
 "nbformat": 4,
 "nbformat_minor": 5
}
